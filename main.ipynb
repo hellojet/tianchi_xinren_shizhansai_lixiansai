{
 "cells": [
  {
   "cell_type": "code",
   "execution_count": 2,
   "metadata": {},
   "outputs": [
    {
     "name": "stderr",
     "output_type": "stream",
     "text": [
      "E:\\Dev\\Anaconda3\\lib\\site-packages\\h5py\\__init__.py:36: FutureWarning: Conversion of the second argument of issubdtype from `float` to `np.floating` is deprecated. In future, it will be treated as `np.float64 == np.dtype(float).type`.\n",
      "  from ._conv import register_converters as _register_converters\n"
     ]
    }
   ],
   "source": [
    "import pandas as pd, numpy as np, tensorflow as tf"
   ]
  },
  {
   "cell_type": "code",
   "execution_count": 3,
   "metadata": {},
   "outputs": [],
   "source": [
    "data_item = pd.read_csv('fresh_comp_offline/tianchi_fresh_comp_train_item.csv')\n",
    "data_user = pd.read_csv('fresh_comp_offline/tianchi_fresh_comp_train_user.csv')"
   ]
  },
  {
   "cell_type": "code",
   "execution_count": 30,
   "metadata": {},
   "outputs": [
    {
     "name": "stdout",
     "output_type": "stream",
     "text": [
      "1862754\n",
      "     item_id item_geohash  item_category\n",
      "0  100002303          NaN           3368\n",
      "1  100003592          NaN           7995\n",
      "2  100006838          NaN          12630\n",
      "3  100008089          NaN           7791\n",
      "4  100012750          NaN           9614\n"
     ]
    }
   ],
   "source": [
    "print(data_item.shape[0])\n",
    "print(data_item.head())"
   ]
  },
  {
   "cell_type": "code",
   "execution_count": 33,
   "metadata": {},
   "outputs": [
    {
     "name": "stdout",
     "output_type": "stream",
     "text": [
      "139746162\n",
      "    user_id    item_id  behavior_type user_geohash  item_category  \\\n",
      "0  10001082  285259775              1      97lk14c           4076   \n",
      "1  10001082    4368907              1          NaN           5503   \n",
      "2  10001082    4368907              1          NaN           5503   \n",
      "3  10001082   53616768              1          NaN           9762   \n",
      "4  10001082  151466952              1          NaN           5232   \n",
      "\n",
      "            time  \n",
      "0  2014-12-08 18  \n",
      "1  2014-12-12 12  \n",
      "2  2014-12-12 12  \n",
      "3  2014-12-02 15  \n",
      "4  2014-12-12 11  \n"
     ]
    }
   ],
   "source": [
    "print(data_user.shape[0])\n",
    "print(data_user.head())"
   ]
  },
  {
   "cell_type": "code",
   "execution_count": 14,
   "metadata": {},
   "outputs": [
    {
     "name": "stdout",
     "output_type": "stream",
     "text": [
      "一个月内用户总数量：\n",
      "20000\n",
      "商品总数量：\n",
      "620918\n",
      "用户在一月内购买的商品数量：\n",
      "4758484\n"
     ]
    }
   ],
   "source": [
    "print(\"一个月内用户总数量：\")\n",
    "print(len(data_user['user_id'].unique()))\n",
    "print(\"商品总数量：\")\n",
    "print(len(data_item['item_id']))\n",
    "print(\"用户在一月内购买的商品数量：\")\n",
    "print(len(data_user['item_id'].unique()))"
   ]
  },
  {
   "cell_type": "code",
   "execution_count": 15,
   "metadata": {},
   "outputs": [
    {
     "name": "stdout",
     "output_type": "stream",
     "text": [
      "交互类型有4种：\n",
      "[1 4 2 3]\n"
     ]
    }
   ],
   "source": [
    "print(\"交互类型有{}种：\".format(len(data_user['behavior_type'].unique())))\n",
    "print(data_user['behavior_type'].unique())"
   ]
  },
  {
   "cell_type": "code",
   "execution_count": 37,
   "metadata": {},
   "outputs": [
    {
     "name": "stdout",
     "output_type": "stream",
     "text": [
      "1018982\n",
      "23291027\n"
     ]
    }
   ],
   "source": [
    "print(\"地理位置是否有重复？\")\n",
    "print(\"总地理位置数：\")\n",
    "print(len(data_user.where(data_user['user_geohash'] != 'nan')['user_geohash']))\n",
    "print(\"去除重复地理位置数：\")\n",
    "print(len(data_user['user_geohash'].unique()))"
   ]
  },
  {
   "cell_type": "code",
   "execution_count": 105,
   "metadata": {},
   "outputs": [
    {
     "name": "stdout",
     "output_type": "stream",
     "text": [
      "23291027\n",
      "    user_id    item_id  behavior_type user_geohash  item_category  \\\n",
      "0  10001082  285259775              1      97lk14c           4076   \n",
      "1  10001082    4368907              1          NaN           5503   \n",
      "2  10001082    4368907              1          NaN           5503   \n",
      "3  10001082   53616768              1          NaN           9762   \n",
      "4  10001082  151466952              1          NaN           5232   \n",
      "\n",
      "            time  \n",
      "0  2014-12-08 18  \n",
      "1  2014-12-12 12  \n",
      "2  2014-12-12 12  \n",
      "3  2014-12-02 15  \n",
      "4  2014-12-12 11  \n"
     ]
    }
   ],
   "source": [
    "data_user = pd.read_csv('fresh_comp_offline/tianchi_fresh_comp_train_user.csv')\n",
    "\n",
    "print(data_user.shape[0])\n",
    "print(data_user.head())"
   ]
  },
  {
   "cell_type": "code",
   "execution_count": 106,
   "metadata": {},
   "outputs": [
    {
     "name": "stdout",
     "output_type": "stream",
     "text": [
      "只判断在商品列表data_item中的商品\n",
      "     user_id    item_id  behavior_type user_geohash  item_category  \\\n",
      "13  10001082  275221686              1          NaN          10576   \n",
      "14  10001082   97441652              1          NaN          10576   \n",
      "15  10001082  275221686              1          NaN          10576   \n",
      "16  10001082  275221686              1          NaN          10576   \n",
      "24  10001082  125083630              1          NaN           4722   \n",
      "\n",
      "             time  \n",
      "13  2014-12-03 01  \n",
      "14  2014-11-20 21  \n",
      "15  2014-12-13 14  \n",
      "16  2014-12-08 07  \n",
      "24  2014-12-14 03  \n",
      "2084859\n"
     ]
    }
   ],
   "source": [
    "print(\"只判断在商品列表data_item中的商品\")\n",
    "data_user = data_user[data_user.item_id.isin(list(data_item.item_id))]\n",
    "print(data_user.head())\n",
    "print(data_user.shape[0])"
   ]
  },
  {
   "cell_type": "code",
   "execution_count": 107,
   "metadata": {},
   "outputs": [
    {
     "name": "stdout",
     "output_type": "stream",
     "text": [
      "将time分成日期和时间两列：\n",
      "     user_id    item_id  behavior_type user_geohash  item_category  \\\n",
      "13  10001082  275221686              1          NaN          10576   \n",
      "14  10001082   97441652              1          NaN          10576   \n",
      "15  10001082  275221686              1          NaN          10576   \n",
      "16  10001082  275221686              1          NaN          10576   \n",
      "24  10001082  125083630              1          NaN           4722   \n",
      "\n",
      "             time         day hours  \n",
      "13  2014-12-03 01  2014-12-03    01  \n",
      "14  2014-11-20 21  2014-11-20    21  \n",
      "15  2014-12-13 14  2014-12-13    14  \n",
      "16  2014-12-08 07  2014-12-08    07  \n",
      "24  2014-12-14 03  2014-12-14    03  \n",
      "2084859\n"
     ]
    }
   ],
   "source": [
    "print(\"将time分成日期和时间两列：\")\n",
    "data_user['day'] = data_user['time'].apply(lambda x:x.split(' ')[0])\n",
    "data_user['hours'] = data_user['time'].apply(lambda x:x.split(' ')[1])\n",
    "print(data_user.head())\n",
    "print(data_user.shape[0])"
   ]
  },
  {
   "cell_type": "code",
   "execution_count": 108,
   "metadata": {
    "scrolled": true
   },
   "outputs": [
    {
     "name": "stdout",
     "output_type": "stream",
     "text": [
      "去除12月11日和12日的异常数据：\n",
      "1890461\n"
     ]
    }
   ],
   "source": [
    "# print(\"去除12月11日和12日的异常数据：\")\n",
    "# data_user = data_user[(data_user['day'].str.find('12-11') == -1) & (data_user['day'].str.find('12-12') == -1)]\n",
    "# print(data_user.shape[0])"
   ]
  },
  {
   "cell_type": "code",
   "execution_count": null,
   "metadata": {},
   "outputs": [],
   "source": []
  }
 ],
 "metadata": {
  "kernelspec": {
   "display_name": "Python 3",
   "language": "python",
   "name": "python3"
  },
  "language_info": {
   "codemirror_mode": {
    "name": "ipython",
    "version": 3
   },
   "file_extension": ".py",
   "mimetype": "text/x-python",
   "name": "python",
   "nbconvert_exporter": "python",
   "pygments_lexer": "ipython3",
   "version": "3.6.5"
  }
 },
 "nbformat": 4,
 "nbformat_minor": 2
}
